{
 "cells": [
  {
   "cell_type": "code",
   "execution_count": 18,
   "metadata": {},
   "outputs": [],
   "source": [
    "import pandas as pd\n",
    "\n",
    "def mergeFeatures(master, features, manual):\n",
    "    \"\"\"Returns a subset of columns in master that includes:\n",
    "       1) overlapping column names in features\n",
    "       2) all column names in manual\n",
    "    \"\"\"\n",
    "    master_cols = list(master)\n",
    "    features_cols = list(features)\n",
    "    manual_cols = list(manual)\n",
    "    \n",
    "    final_cols = [val for val in master_cols if (val in features_cols) or (val in manual_cols)]\n",
    "    return master[final_cols]"
   ]
  },
  {
   "cell_type": "code",
   "execution_count": 19,
   "metadata": {},
   "outputs": [
    {
     "name": "stdout",
     "output_type": "stream",
     "text": [
      "          a         b         e\n",
      "0 -1.108731  0.128753 -0.462185\n",
      "1  0.755388  0.639508  3.044511\n",
      "2 -0.753539 -0.321553 -0.400461\n",
      "3 -1.331102 -1.137506 -2.170808\n",
      "4  0.074863  0.228005 -1.476214\n",
      "5 -0.454072  1.070981  0.647623\n",
      "6 -0.057831 -2.027260  1.528527\n",
      "7  0.505054 -1.265863 -0.133224\n",
      "8  0.166307  1.927393 -0.219138\n",
      "9  2.312213 -2.245854  1.661880\n"
     ]
    }
   ],
   "source": [
    "# Example usage\n",
    "import numpy as np\n",
    "\n",
    "master = pd.DataFrame(np.random.randn(10, 5), columns=['a', 'b', 'c', 'd', 'e'])\n",
    "features = pd.DataFrame(np.random.randn(0, 3), columns=['a', 'b', 'f'])\n",
    "manual = pd.DataFrame(np.random.randn(0, 1), columns=['e'])\n",
    "print(mergeFeatures(master, features, manual))"
   ]
  },
  {
   "cell_type": "code",
   "execution_count": null,
   "metadata": {
    "collapsed": true
   },
   "outputs": [],
   "source": []
  }
 ],
 "metadata": {
  "kernelspec": {
   "display_name": "Python 3",
   "language": "python",
   "name": "python3"
  },
  "language_info": {
   "codemirror_mode": {
    "name": "ipython",
    "version": 3
   },
   "file_extension": ".py",
   "mimetype": "text/x-python",
   "name": "python",
   "nbconvert_exporter": "python",
   "pygments_lexer": "ipython3",
   "version": "3.6.1"
  }
 },
 "nbformat": 4,
 "nbformat_minor": 2
}
