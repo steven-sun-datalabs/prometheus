{
 "cells": [
  {
   "cell_type": "code",
   "execution_count": 69,
   "metadata": {
    "collapsed": false
   },
   "outputs": [
    {
     "data": {
      "text/plain": [
       "(2377, 127)"
      ]
     },
     "execution_count": 69,
     "metadata": {},
     "output_type": "execute_result"
    }
   ],
   "source": [
    "# Dependencies and dataload\n",
    "# Link to associated webkit\n",
    "# http://scikit-learn.org/stable/modules/feature_selection.html#l1-feature-selection\n",
    "# https://stackoverflow.com/questions/37877542/how-to-label-the-feature-importance-with-forests-of-trees\n",
    "import pandas as pd\n",
    "import numpy as np\n",
    "import matplotlib.pyplot as plt\n",
    "from sklearn.ensemble import RandomForestClassifier\n",
    "import matplotlib.pyplot as plt\n",
    "import seaborn as sns\n",
    "\n",
    "my_data = pd.read_csv('/Users/stevensun/Prometheus/0_data/prometheus.csv')\n",
    "my_data.shape"
   ]
  },
  {
   "cell_type": "code",
   "execution_count": 65,
   "metadata": {
    "collapsed": false
   },
   "outputs": [
    {
     "data": {
      "text/plain": [
       "(690, 127)"
      ]
     },
     "execution_count": 65,
     "metadata": {},
     "output_type": "execute_result"
    }
   ],
   "source": [
    "#drop incomplete rows\n",
    "my_data = my_data.dropna()\n",
    "my_data.shape"
   ]
  },
  {
   "cell_type": "code",
   "execution_count": 66,
   "metadata": {
    "collapsed": true
   },
   "outputs": [],
   "source": [
    "# vectorize data\n",
    "\n",
    "X = my_data.ix[:,0:125]\n",
    "y = my_data.ix[:,126]\n",
    "X_headers = X.columns"
   ]
  },
  {
   "cell_type": "code",
   "execution_count": 67,
   "metadata": {
    "collapsed": false
   },
   "outputs": [
    {
     "data": {
      "text/plain": [
       "RandomForestClassifier(bootstrap=True, class_weight=None, criterion='gini',\n",
       "            max_depth=None, max_features='auto', max_leaf_nodes=None,\n",
       "            min_impurity_split=1e-07, min_samples_leaf=1,\n",
       "            min_samples_split=2, min_weight_fraction_leaf=0.0,\n",
       "            n_estimators=100, n_jobs=1, oob_score=False, random_state=None,\n",
       "            verbose=0, warm_start=False)"
      ]
     },
     "execution_count": 67,
     "metadata": {},
     "output_type": "execute_result"
    }
   ],
   "source": [
    "## random forest constructor\n",
    "rfc = RandomForestClassifier(n_estimators=100)\n",
    "rfc.fit(X, y)"
   ]
  },
  {
   "cell_type": "code",
   "execution_count": 68,
   "metadata": {
    "collapsed": false
   },
   "outputs": [
    {
     "name": "stdout",
     "output_type": "stream",
     "text": [
      "Feature ranking:\n",
      "1. feature SEX (0.041754)\n",
      "2. feature BMI (0.038090)\n",
      "3. feature AGE (normalized 30-80) (0.033431)\n",
      "4. feature ANAT_DEGREE_normalized VAR-VAL_-25_+25 (0.032403)\n",
      "5. feature RC_WHT (0.032180)\n",
      "6. feature RC_BLCK (0.031726)\n",
      "7. feature RC_NHAW (0.031395)\n",
      "8. feature RC_AMIND (0.030582)\n",
      "9. feature RC_ASIAN (0.030056)\n",
      "10. feature RC_HISPLAT (0.029929)\n",
      "11. feature PRIDX1_OA (0.029670)\n",
      "12. feature PRIDX2_AVN (0.029462)\n",
      "13. feature PRIDX3_PTA (0.029241)\n",
      "14. feature PRIDX4_OTHER (0.028681)\n",
      "15. feature LTHPN_STD (0.025061)\n",
      "16. feature RTHPN_STD (0.021844)\n",
      "17. feature PTRT_NONE_YN (0.020638)\n",
      "18. feature PTRT_HTO_YN (0.020194)\n",
      "19. feature PTRT_ARTHRO_YN (0.019443)\n",
      "20. feature PTRT_INTRA_INJECT_YN (0.019421)\n",
      "21. feature PTRT_LAT_REL_YN (0.018435)\n",
      "22. feature PTRT_LIG_RECON_YN (0.017660)\n",
      "23. feature PTRT_MENIS_YN (0.016570)\n",
      "24. feature PTRT_ODBR_YN (0.014210)\n",
      "25. feature PTRT_ORIF_YN (0.013510)\n",
      "26. feature PTRT_CODBR_YN (0.013233)\n",
      "27. feature PTRT_SYNOV_YN (0.013042)\n",
      "28. feature PTRT_TIB_TUBER_YN (0.012638)\n",
      "29. feature GM_NONE_YN (0.012483)\n",
      "30. feature GM_ALCH_DRUG_YN (0.012208)\n",
      "31. feature GM_AUTOIMM_YN (0.011931)\n",
      "32. feature GM_BACK_PAIN_YN (0.011842)\n",
      "33. feature GM_CANCER_YN (0.011194)\n",
      "34. feature GM_CARDIO_YN (0.010597)\n",
      "35. feature GM_DEPRESS_YN (0.010303)\n",
      "36. feature GM_OTHMN_YN (0.009460)\n",
      "37. feature GM_DIABETES_YN (0.008785)\n",
      "38. feature GM_DVT_YN (0.008400)\n",
      "39. feature GM_END_METABLIC_YN (0.008157)\n",
      "40. feature GM_FIBRO_POLY_YN (0.007939)\n",
      "41. feature GM_GASTRO_DIS_YN (0.007876)\n",
      "42. feature GM_GENIT_DIS_YN (0.007806)\n",
      "43. feature GM_GOUT_YN (0.007790)\n",
      "44. feature GM_HEENT_YN (0.007576)\n",
      "45. feature GM_H_SMOKER_YN (0.007567)\n",
      "46. feature GM_HEMA_DIS_YN (0.007308)\n",
      "47. feature GM_HEP_DIS_YN (0.006024)\n",
      "48. feature GM_HYPTN_YN (0.005929)\n",
      "49. feature GM_HYPCHOL_YN (0.005870)\n",
      "50. feature GM_INFLAM_DIS_YN (0.005820)\n",
      "51. feature GM_NEURO_DIS_YN (0.005644)\n",
      "52. feature GM_OSTEO_YN (0.005625)\n",
      "53. feature GM_PE_YN (0.005613)\n",
      "54. feature GM_PNERV_DIS_YN (0.005282)\n",
      "55. feature GM_RENAL_DIS_YN (0.005055)\n",
      "56. feature GM_RESP_DIS_YN (0.004948)\n",
      "57. feature GM_STENOSIS_YN (0.004678)\n",
      "58. feature GM_STROKE_CVA_YN (0.004500)\n",
      "59. feature GM_VASCULAR_YN (0.004242)\n",
      "60. feature GM_OTHER_YN (0.004220)\n",
      "61. feature AP Alignment Angle (0.004108)\n",
      "62. feature Distal Femoral Angle (0.003655)\n",
      "63. feature Proximal Tibial Angle (0.003644)\n",
      "64. feature Femoral Component Flexion (0.003596)\n",
      "65. feature Posterior Tibial Slope (0.003409)\n",
      "66. feature PROC_DUR_MIN (normalized 25 to 230 min) (0.003409)\n",
      "67. feature DEVIMP_PSFB (0.003389)\n",
      "68. feature DEVIMP_PSRP (0.002422)\n",
      "69. feature DEVIMP_CRFB (0.002309)\n",
      "70. feature DEVIMP_CRRP (0.002135)\n",
      "71. feature INCISION_MIDLINE (0.002032)\n",
      "72. feature INCISION_MEDIAL (0.001677)\n",
      "73. feature INCISION_LATERAL (0.001621)\n",
      "74. feature SRG_APPROACH_MEDIAL_PARAPATELLAR (0.001618)\n",
      "75. feature SRG_APPROACH_MIDVASTUS (0.001563)\n",
      "76. feature SRG_APPROACH_TRIVECTOR (0.001512)\n",
      "77. feature PAT_MANAGE_EVERTED (0.001308)\n",
      "78. feature PAT_MANAGE_SUBLUXED (0.001303)\n",
      "79. feature PAT_RESURFACE (0.001287)\n",
      "80. feature RESECTION_GAPBALANCE (0.001196)\n",
      "81. feature RESECTION_MEASURED (0.001191)\n",
      "82. feature INSTRUMENTS_SUI (0.001059)\n",
      "83. feature INSTRUMENTS_RUI (0.000949)\n",
      "84. feature PCL_MANAGE_INTACT (0.000902)\n",
      "85. feature PCL_MANAGE_RESECTED_ABSENT (0.000876)\n",
      "86. feature PCL_MANAGE_BALANCED_PARTIAL (0.000870)\n",
      "87. feature TRUMATCH_USED_YN (0.000734)\n",
      "88. feature COM_ASSIST_YN (0.000730)\n",
      "89. feature BONE_CEMENT_FEM (0.000720)\n",
      "90. feature BONE_CEMENT_TIB (0.000718)\n",
      "91. feature Unnamed: 90 (0.000610)\n",
      "92. feature ANTI_CEMENT (0.000577)\n",
      "93. feature PAT_LAT_RELEASE_YN (0.000520)\n",
      "94. feature ST_NONE_YN (0.000516)\n",
      "95. feature ST_SYN_YN (0.000414)\n",
      "96. feature ST_PES_ANSER_YN (0.000405)\n",
      "97. feature ST_DEEP_MCL_YN (0.000391)\n",
      "98. feature ST_POST_MED_CAP_YN (0.000370)\n",
      "99. feature ST_SUPER_MCL_YN (0.000346)\n",
      "100. feature ST_BI_FEM_YN (0.000339)\n",
      "101. feature ST_ILL_TRACT_YN (0.000332)\n",
      "102. feature ST_LCL_YN (0.000309)\n",
      "103. feature ST_LAT_RETIN_YN (0.000305)\n",
      "104. feature ST_IT_BAND_YN (0.000284)\n",
      "105. feature ST_POPLIT_YN (0.000267)\n",
      "106. feature ST_POST_LAT_CAP_YN (0.000231)\n",
      "107. feature ST_REC_SNIP_YN (0.000209)\n",
      "108. feature ST_QUAD_REL_YN (0.000182)\n",
      "109. feature ST_OTHER_YN (0.000169)\n",
      "110. feature preop PKIP confidence (0.000089)\n",
      "111. feature preop PKIP stability (0.000018)\n",
      "112. feature preop PKIP modify (0.000007)\n"
     ]
    }
   ],
   "source": [
    "## feature ranking as described in:\n",
    "## http://scikit-learn.org/stable/auto_examples/ensemble/plot_forest_importances.html\n",
    "importances = rfc.feature_importances_\n",
    "std = np.std([tree.feature_importances_ for tree in rfc.estimators_],\n",
    "             axis=0)\n",
    "\n",
    "indices = np.argsort(importances)[::-1]\n",
    "\n",
    "# Print the feature ranking\n",
    "print(\"Feature ranking:\")\n",
    "\n",
    "for f in range(X.shape[1]):\n",
    "    if(importances[indices[f]] != 0):\n",
    "        print(\"%d. feature %s (%f)\" % (f + 1, X_headers[f], importances[indices[f]]))"
   ]
  },
  {
   "cell_type": "code",
   "execution_count": null,
   "metadata": {
    "collapsed": true
   },
   "outputs": [],
   "source": []
  },
  {
   "cell_type": "code",
   "execution_count": null,
   "metadata": {
    "collapsed": true
   },
   "outputs": [],
   "source": []
  }
 ],
 "metadata": {
  "kernelspec": {
   "display_name": "Python 3",
   "language": "python",
   "name": "python3"
  },
  "language_info": {
   "codemirror_mode": {
    "name": "ipython",
    "version": 3
   },
   "file_extension": ".py",
   "mimetype": "text/x-python",
   "name": "python",
   "nbconvert_exporter": "python",
   "pygments_lexer": "ipython3",
   "version": "3.6.0"
  }
 },
 "nbformat": 4,
 "nbformat_minor": 2
}
